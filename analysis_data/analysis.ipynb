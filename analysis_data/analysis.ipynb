{
 "cells": [
  {
   "cell_type": "code",
   "execution_count": 1,
   "id": "e442b037",
   "metadata": {},
   "outputs": [
    {
     "name": "stderr",
     "output_type": "stream",
     "text": [
      "/nfsdata/yhe/miniconda3/envs/verl/lib/python3.10/site-packages/tqdm/auto.py:21: TqdmWarning: IProgress not found. Please update jupyter and ipywidgets. See https://ipywidgets.readthedocs.io/en/stable/user_install.html\n",
      "  from .autonotebook import tqdm as notebook_tqdm\n"
     ]
    }
   ],
   "source": [
    "\n",
    "import torch\n",
    "from datasets import load_dataset\n",
    "\n",
    "# data = torch.load(path, map_location='cpu', weights_only=False)\n",
    "# entropy_list = data['output_lst_entropy']\n",
    "def load_data(idx):\n",
    "    path = '/nfsdata/yhe/verl/analysis_data/train_1k_global_step_{}_generation.parquet'.format(str(idx))\n",
    "    print(path)\n",
    "    data = load_dataset('parquet', data_files=path)['train']\n",
    "    return data\n"
   ]
  },
  {
   "cell_type": "code",
   "execution_count": 2,
   "id": "1e95d743",
   "metadata": {},
   "outputs": [
    {
     "name": "stderr",
     "output_type": "stream",
     "text": [
      "Generating train split: 50 examples [00:00, 7521.53 examples/s]\n"
     ]
    },
    {
     "data": {
      "text/plain": [
       "{'data_source': Value('string'),\n",
       " 'prompt': List({'content': Value('string'), 'role': Value('string')}),\n",
       " 'ability': Value('string'),\n",
       " 'reward_model': {'ground_truth': Value('string'), 'style': Value('string')},\n",
       " 'extra_info': {'index': Value('int64'), 'split': Value('string')}}"
      ]
     },
     "execution_count": 2,
     "metadata": {},
     "output_type": "execute_result"
    }
   ],
   "source": [
    "path = '/nfsdata/yhe/verl/data/qwen-math/deepscaler/train_50.parquet'\n",
    "data = load_dataset('parquet', data_files=path)['train']\n",
    "data.features"
   ]
  },
  {
   "cell_type": "code",
   "execution_count": 4,
   "id": "dffe5124",
   "metadata": {},
   "outputs": [
    {
     "data": {
      "text/plain": [
       "1"
      ]
     },
     "execution_count": 4,
     "metadata": {},
     "output_type": "execute_result"
    }
   ],
   "source": [
    "data[1]['extra_info']['index']"
   ]
  },
  {
   "cell_type": "code",
   "execution_count": 12,
   "id": "84105efe",
   "metadata": {},
   "outputs": [
    {
     "data": {
      "text/plain": [
       "[1, 3, 2, 5, 4]"
      ]
     },
     "execution_count": 12,
     "metadata": {},
     "output_type": "execute_result"
    }
   ],
   "source": [
    "a = [1,1,1,3,3,3,2,2,2,5,5,5,4,4,4]\n",
    "import numpy as np\n",
    "b = np.array(a)\n",
    "c = [b[i] for i in range(0, len(b), 3)]\n",
    "c\n"
   ]
  },
  {
   "cell_type": "code",
   "execution_count": null,
   "id": "bd480386",
   "metadata": {},
   "outputs": [
    {
     "data": {
      "text/plain": [
       "array([0, 1, 2])"
      ]
     },
     "execution_count": 14,
     "metadata": {},
     "output_type": "execute_result"
    }
   ],
   "source": [
    "val-core/math-verify-aime24/reward/mean@1:0.21 - \n",
    "val-aux/math-verify-aime24/score/mean@1:0.21 - \n",
    "val-core/math-verify-aime25/reward/mean@1:0.23666666666666666 - \n",
    "val-aux/math-verify-aime25/score/mean@1:0.23666666666666666 - \n",
    "val-core/math-verify-amc23/reward/mean@1:0.65 - \n",
    "val-aux/math-verify-amc23/score/mean@1:0.65 - \n",
    "val-core/math-verify-math500/reward/mean@1:0.826 - \n",
    "val-aux/math-verify-math500/score/mean@1:0.826 - \n",
    "val-core/math-verify-olympiadbench/reward/mean@1:0.46370370370370373 - \n",
    "val-aux/math-verify-olympiadbench/score/mean@1:0.46370370370370373 -"
   ]
  },
  {
   "cell_type": "code",
   "execution_count": 15,
   "id": "bae6c708",
   "metadata": {},
   "outputs": [
    {
     "data": {
      "text/plain": [
       "0.47700000000000004"
      ]
     },
     "execution_count": 15,
     "metadata": {},
     "output_type": "execute_result"
    }
   ],
   "source": [
    "(0.21+0.236+0.65+0.826+0.463)/5"
   ]
  },
  {
   "cell_type": "code",
   "execution_count": null,
   "id": "afcf4765",
   "metadata": {},
   "outputs": [],
   "source": [
    "val-aux/math-verify-aime24/score/mean@1:0.22666666666666666 - \n",
    "val-core/math-verify-aime25/reward/mean@1:0.23666666666666666 - \n",
    "val-aux/math-verify-aime25/score/mean@1:0.23666666666666666 - \n",
    "val-core/math-verify-amc23/reward/mean@1:0.7 - \n",
    "val-aux/math-verify-amc23/score/mean@1:0.7 - \n",
    "val-core/math-verify-math500/reward/mean@1:0.82 - \n",
    "val-aux/math-verify-math500/score/mean@1:0.82 - \n",
    "val-core/math-verify-olympiadbench/reward/mean@1:0.4918518518518519 - \n",
    "val-aux/math-verify-olympiadbench/score/mean@1:0.4918518518518519 \n"
   ]
  },
  {
   "cell_type": "code",
   "execution_count": 1,
   "id": "05cd81f8",
   "metadata": {},
   "outputs": [],
   "source": [
    "import numpy as np\n",
    "\n",
    "a = ['a', 'ab', 'abc', 'abcd']\n",
    "b = np.array(a, dtype=object)"
   ]
  },
  {
   "cell_type": "code",
   "execution_count": 3,
   "id": "ab061c47",
   "metadata": {},
   "outputs": [],
   "source": [
    "c = b.reshape(2, 2)"
   ]
  },
  {
   "cell_type": "code",
   "execution_count": 4,
   "id": "d715222c",
   "metadata": {},
   "outputs": [
    {
     "data": {
      "text/plain": [
       "array([['a', 'ab'],\n",
       "       ['abc', 'abcd']], dtype=object)"
      ]
     },
     "execution_count": 4,
     "metadata": {},
     "output_type": "execute_result"
    }
   ],
   "source": [
    "c"
   ]
  },
  {
   "cell_type": "code",
   "execution_count": null,
   "id": "687e52c2",
   "metadata": {},
   "outputs": [
    {
     "data": {
      "text/plain": [
       "0.5008"
      ]
     },
     "execution_count": 52,
     "metadata": {},
     "output_type": "execute_result"
    }
   ],
   "source": [
    "curl -I https://cursor.blob.core.windows.net/remote-releases/53b99ce608cba35127ae3a050c1738a959750860/vscode-reh-linux-x64.tar.gz"
   ]
  },
  {
   "cell_type": "code",
   "execution_count": null,
   "id": "642ad804",
   "metadata": {},
   "outputs": [
    {
     "data": {
      "text/plain": [
       "0.46900000000000003"
      ]
     },
     "execution_count": 51,
     "metadata": {},
     "output_type": "execute_result"
    }
   ],
   "source": [
    "(0.497+0.832+0.725+0.22+0.23)/5\n",
    " \n",
    "(0.236+0.203+0.482+0.824+0.6)/5"
   ]
  },
  {
   "cell_type": "code",
   "execution_count": 26,
   "id": "6bcca12f",
   "metadata": {},
   "outputs": [
    {
     "data": {
      "text/plain": [
       "{'score': 1.0}"
      ]
     },
     "execution_count": 26,
     "metadata": {},
     "output_type": "execute_result"
    }
   ],
   "source": [
    "compute_score(data_source, response_0, ground_truth_0, extra_info)"
   ]
  },
  {
   "cell_type": "code",
   "execution_count": 18,
   "id": "f0c3ee27",
   "metadata": {},
   "outputs": [],
   "source": [
    "def add_reward_score(example):\n",
    "    responses = example['responses']\n",
    "    ground_truth = example['reward_model']['ground_truth']\n",
    "    data_source = example['data_source']\n",
    "    extra_info = example['extra_info']\n",
    "    scores = []\n",
    "    for response in responses:\n",
    "        score = compute_score(data_source, response, ground_truth, extra_info)\n",
    "        \n",
    "        scores.append(float(score['score']))\n",
    "    correct_ratio = sum(scores) / len(scores)\n",
    "    example['correct_ratio'] = correct_ratio\n",
    "    example['reward_scores'] = scores\n",
    "    return example\n",
    "# data_50 = load_data(50)\n",
    "# data_100 = load_data(100)\n",
    "# data_150 = load_data(150)\n",
    "\n",
    "\n",
    "# data_50 = data_50.map(add_reward_score, num_proc=16)\n",
    "# data_100 = data_100.map(add_reward_score, num_proc=16)\n",
    "# data_150 = data_150.map(add_reward_score, num_proc=16)\n",
    "# correct_ratio_50 = data_50['correct_ratio']\n",
    "# correct_ratio_100 = data_100['correct_ratio']\n",
    "# correct_ratio_150 = data_150['correct_ratio']\n"
   ]
  },
  {
   "cell_type": "code",
   "execution_count": 33,
   "id": "ec93c161",
   "metadata": {},
   "outputs": [],
   "source": [
    "correct_ratio_50 = torch.tensor(correct_ratio_50, dtype=torch.float32)\n",
    "correct_ratio_100 = torch.tensor(correct_ratio_100, dtype=torch.float32)\n",
    "correct_ratio_150 = torch.tensor(correct_ratio_150, dtype=torch.float32)\n"
   ]
  },
  {
   "cell_type": "code",
   "execution_count": 37,
   "id": "17b91f7a",
   "metadata": {},
   "outputs": [],
   "source": [
    "delta_1 = correct_ratio_100 - correct_ratio_50\n",
    "delta_2 = correct_ratio_150 - correct_ratio_100\n",
    "delta_3 = correct_ratio_150 - correct_ratio_50\n"
   ]
  },
  {
   "cell_type": "code",
   "execution_count": 42,
   "id": "dc9a4fe5",
   "metadata": {},
   "outputs": [
    {
     "name": "stdout",
     "output_type": "stream",
     "text": [
      "tensor(147) tensor(136) tensor(147)\n"
     ]
    }
   ],
   "source": [
    "zero1 = delta_1 == 0\n",
    "zero2 = delta_2 == 0\n",
    "zero3 = delta_3 == 0\n",
    "z1 = correct_ratio_50[zero1]\n",
    "z2 = correct_ratio_100[zero2]\n",
    "z3 = correct_ratio_150[zero3]\n",
    "\n",
    "sum1 = (z1 == 0).sum()\n",
    "sum2 = (z2 == 0).sum()\n",
    "sum3 = (z3 == 0).sum()\n",
    "\n",
    "print(sum1, sum2, sum3)\n"
   ]
  },
  {
   "cell_type": "code",
   "execution_count": 44,
   "id": "cc31e764",
   "metadata": {},
   "outputs": [
    {
     "name": "stdout",
     "output_type": "stream",
     "text": [
      "tensor(243) tensor(277) tensor(251)\n"
     ]
    }
   ],
   "source": [
    "sum4 = (z1 == 1).sum()\n",
    "sum5 = (z2 == 1).sum()\n",
    "sum6 = (z3 == 1).sum()\n",
    "\n",
    "print(sum4, sum5, sum6)\n",
    "\n"
   ]
  },
  {
   "cell_type": "code",
   "execution_count": 50,
   "id": "53dac71d",
   "metadata": {},
   "outputs": [
    {
     "name": "stdout",
     "output_type": "stream",
     "text": [
      "PearsonRResult(statistic=0.9619136, pvalue=0.0) PearsonRResult(statistic=0.96466833, pvalue=0.0) PearsonRResult(statistic=0.95189846, pvalue=0.0)\n",
      "SignificanceResult(statistic=0.9322236752999666, pvalue=0.0) SignificanceResult(statistic=0.9310162577196393, pvalue=0.0) SignificanceResult(statistic=0.9193030914873906, pvalue=0.0)\n"
     ]
    }
   ],
   "source": [
    "import pandas as pd\n",
    "import numpy as np\n",
    "from scipy.stats import pearsonr, spearmanr\n",
    "\n",
    "corr1 = pearsonr(correct_ratio_50, correct_ratio_100)\n",
    "corr2 = pearsonr(correct_ratio_100, correct_ratio_150)\n",
    "corr3 = pearsonr(correct_ratio_50, correct_ratio_150)\n",
    "\n",
    "print(corr1, corr2, corr3)\n",
    "\n",
    "corr1 = spearmanr(correct_ratio_50, correct_ratio_100)\n",
    "corr2 = spearmanr(correct_ratio_100, correct_ratio_150)\n",
    "corr3 = spearmanr(correct_ratio_50, correct_ratio_150)\n",
    "\n",
    "print(corr1, corr2, corr3)\n",
    "\n",
    "\n"
   ]
  },
  {
   "cell_type": "code",
   "execution_count": 47,
   "id": "00f17633",
   "metadata": {},
   "outputs": [
    {
     "data": {
      "image/png": "[encoded data removed]",
      "text/plain": [
       "<Figure size 640x480 with 1 Axes>"
      ]
     },
     "metadata": {},
     "output_type": "display_data"
    },
    {
     "data": {
      "image/png": "[encoded data removed]",
      "text/plain": [
       "<Figure size 640x480 with 1 Axes>"
      ]
     },
     "metadata": {},
     "output_type": "display_data"
    },
    {
     "data": {
      "image/png": "[encoded data removed]",
      "text/plain": [
       "<Figure size 640x480 with 1 Axes>"
      ]
     },
     "metadata": {},
     "output_type": "display_data"
    }
   ],
   "source": [
    "plot_hist(correct_ratio_50)\n",
    "plot_hist(correct_ratio_100)\n",
    "plot_hist(correct_ratio_150)\n"
   ]
  },
  {
   "cell_type": "code",
   "execution_count": 41,
   "id": "04fc8b3e",
   "metadata": {},
   "outputs": [
    {
     "data": {
      "image/png": "[encoded data removed]",
      "text/plain": [
       "<Figure size 640x480 with 1 Axes>"
      ]
     },
     "metadata": {},
     "output_type": "display_data"
    },
    {
     "data": {
      "image/png": "[encoded data removed]",
      "text/plain": [
       "<Figure size 640x480 with 1 Axes>"
      ]
     },
     "metadata": {},
     "output_type": "display_data"
    },
    {
     "data": {
      "image/png": "[encoded data removed]",
      "text/plain": [
       "<Figure size 640x480 with 1 Axes>"
      ]
     },
     "metadata": {},
     "output_type": "display_data"
    }
   ],
   "source": [
    "\n",
    "plt.hist(delta_1.numpy(), bins=100)\n",
    "\n",
    "plt.show()\n",
    "plt.hist(delta_2.numpy(), bins=100)\n",
    "\n",
    "plt.show()\n",
    "plt.hist(delta_3.numpy(), bins=100)\n",
    "\n",
    "\n",
    "plt.show()\n",
    "\n",
    "\n"
   ]
  },
  {
   "cell_type": "code",
   "execution_count": 17,
   "id": "b2e36741",
   "metadata": {},
   "outputs": [],
   "source": [
    "correct_ratio_2 = data['correct_ratio']"
   ]
  },
  {
   "cell_type": "code",
   "execution_count": 18,
   "id": "8818f2a9",
   "metadata": {},
   "outputs": [
    {
     "data": {
      "text/plain": [
       "489"
      ]
     },
     "execution_count": 18,
     "metadata": {},
     "output_type": "execute_result"
    }
   ],
   "source": [
    "num_same = 0\n",
    "for i in range(len(correct_ratio_2)):\n",
    "    if correct_ratio_2[i] == correct_ratio[i]:\n",
    "        num_same += 1\n",
    "\n",
    "num_same\n",
    "\n"
   ]
  },
  {
   "cell_type": "code",
   "execution_count": 11,
   "id": "75acd3c0",
   "metadata": {},
   "outputs": [
    {
     "data": {
      "image/png": "[encoded data removed]",
      "text/plain": [
       "<Figure size 640x480 with 1 Axes>"
      ]
     },
     "metadata": {},
     "output_type": "display_data"
    }
   ],
   "source": [
    "correct_ratio = data['correct_ratio']\n",
    "import matplotlib.pyplot as plt\n",
    "import numpy as np\n",
    "\n",
    "# 只有16类，先统计每一类的数量\n",
    "bins = np.linspace(0, 1, 17)  # 16个区间\n",
    "counts, edges = np.histogram(correct_ratio, bins=bins)\n",
    "x_labels = [f\"{edges[i]:.2f}~{edges[i+1]:.2f}\" for i in range(len(edges)-1)]\n",
    "\n",
    "plt.bar(range(16), counts, tick_label=x_labels)\n",
    "\n",
    "plt.xticks(rotation=45, ha='right')\n",
    "for i, v in enumerate(counts):\n",
    "    plt.text(i, v + 0.5, str(v), ha='center', va='bottom', fontsize=8)\n",
    "plt.show()"
   ]
  },
  {
   "cell_type": "code",
   "execution_count": 45,
   "id": "960c9d7b",
   "metadata": {},
   "outputs": [],
   "source": [
    "\n",
    "def plot_hist(correct_ratio):\n",
    "    import matplotlib.pyplot as plt\n",
    "    import numpy as np\n",
    "\n",
    "    # 只有16类，先统计每一类的数量\n",
    "    bins = np.linspace(0, 1, 17)  # 16个区间\n",
    "    counts, edges = np.histogram(correct_ratio, bins=bins)\n",
    "    x_labels = [f\"{edges[i]:.2f}~{edges[i+1]:.2f}\" for i in range(len(edges)-1)]\n",
    "\n",
    "    plt.bar(range(16), counts, tick_label=x_labels)\n",
    "\n",
    "    plt.xticks(rotation=45, ha='right')\n",
    "    for i, v in enumerate(counts):\n",
    "        plt.text(i, v + 0.5, str(v), ha='center', va='bottom', fontsize=8)\n",
    "    plt.show()\n"
   ]
  },
  {
   "cell_type": "code",
   "execution_count": 7,
   "id": "311496ac",
   "metadata": {},
   "outputs": [
    {
     "data": {
      "text/plain": [
       "0.263"
      ]
     },
     "execution_count": 7,
     "metadata": {},
     "output_type": "execute_result"
    }
   ],
   "source": [
    "num_half_correct = 0\n",
    "for ratio in correct_ratio:\n",
    "    if ratio >0 and ratio <= 0.625:\n",
    "        num_half_correct += 1\n",
    "\n",
    "num_half_correct / len(correct_ratio)\n",
    "\n"
   ]
  },
  {
   "cell_type": "code",
   "execution_count": 30,
   "id": "9cfe3a4f",
   "metadata": {},
   "outputs": [
    {
     "data": {
      "text/plain": [
       "127"
      ]
     },
     "execution_count": 30,
     "metadata": {},
     "output_type": "execute_result"
    }
   ],
   "source": [
    "num_half_correct "
   ]
  },
  {
   "cell_type": "code",
   "execution_count": 17,
   "id": "663d151d",
   "metadata": {},
   "outputs": [
    {
     "name": "stdout",
     "output_type": "stream",
     "text": [
      "Reward info: VERIFICATION_REWARD_TYPE='baseline' AUXILIARY_REWARDS='none'\n"
     ]
    }
   ],
   "source": [
    "import os\n",
    "\n",
    "VERIFICATION_REWARD_TYPE = os.environ.get(\"VERIFICATION_REWARD_TYPE\", \"baseline\")\n",
    "AUXILIARY_REWARDS = os.environ.get(\"AUXILIARY_REWARDS\", \"none\")\n",
    "\n",
    "print(f\"Reward info: {VERIFICATION_REWARD_TYPE=} {AUXILIARY_REWARDS=}\")\n",
    "\n",
    "import re\n",
    "try:\n",
    "    from math_verify import parse, verify\n",
    "    from math_verify.metric import math_metric\n",
    "    from math_verify.parser import LatexExtractionConfig, ExprExtractionConfig\n",
    "    from math_verify.errors import TimeoutException\n",
    "except ImportError:\n",
    "    print(\"To use Math-Verify, please install it first by running `pip install math-verify`.\")\n",
    "\n",
    "import logging\n",
    "\n",
    "# Disable all loggers starting with 'math_verify'\n",
    "for name, logger in logging.Logger.manager.loggerDict.items():\n",
    "    if isinstance(logger, logging.Logger) and name.startswith(\"math_verify\"):\n",
    "        logger.disabled = True\n",
    "        logger.handlers.clear()\n",
    "\n",
    "\n",
    "def compute_score(data_source, solution_str, ground_truth, extra_info):\n",
    "    if \"</think>\" in solution_str:\n",
    "        solution_str = solution_str.split(\"</think>\")[-1]\n",
    "    split = extra_info.get(\"split\", \"train\")\n",
    "    if data_source.startswith(\"math-verify\"):\n",
    "        res = math_verify_reward(data_source, solution_str, ground_truth, extra_info)\n",
    "\n",
    "    elif data_source == \"qwen-math\":\n",
    "        res = qwen_math_reward(data_source, solution_str, ground_truth, extra_info)\n",
    "\n",
    "    elif data_source.startswith(\"verification\"):\n",
    "        if split == \"test\":\n",
    "            res = test_verification_reward(data_source, solution_str, ground_truth, extra_info)\n",
    "        else:\n",
    "            res = train_verification_reward(data_source, solution_str, ground_truth, extra_info)\n",
    "\n",
    "    else:\n",
    "        raise NotImplementedError(f\"Reward function is not implemented for {data_source=}\")\n",
    "\n",
    "    return res\n",
    "\n",
    "\n",
    "def math_verify_reward(data_source, solution_str, ground_truth, extra_info=None):\n",
    "    try:\n",
    "        pred = parse(solution_str)\n",
    "        if \"gsm8k\" in data_source:\n",
    "            gt = parse(ground_truth)\n",
    "        else:\n",
    "            gt = parse(f\"${ground_truth}$\")\n",
    "        res = verify(gt, pred)\n",
    "    except TimeoutException as e:\n",
    "        res = False\n",
    "    return dict(score=float(res))\n",
    "\n",
    "\n",
    "def qwen_math_reward(data_source, solution_str, ground_truth, extra_info=None):\n",
    "    reward = 0.0\n",
    "    reward_dict = {}\n",
    "\n",
    "    try:\n",
    "        pred = parse(solution_str)\n",
    "        gt = parse(f\"${ground_truth}$\")\n",
    "        label = verify(gt, pred)\n",
    "    except TimeoutException as e:\n",
    "        label = False\n",
    "    reward += float(label)\n",
    "\n",
    "    if \"no_code\" in AUXILIARY_REWARDS:\n",
    "        code_blocks = re.findall(r'```python[\\s\\S]*?```', solution_str)\n",
    "        reward_dict[\"contain_code\"] = len(code_blocks) > 0\n",
    "        if reward_dict[\"contain_code\"]:\n",
    "            reward -= 0.5\n",
    "\n",
    "    reward_dict[\"score\"] = reward\n",
    "    return reward_dict\n",
    "\n",
    "\n",
    "def extract_yes_no(text: str) -> bool | None:\n",
    "    \"\"\"\n",
    "    Search for 'Is the answer correct (Yes/No)? Yes|No' pattern in text and return True/False for Yes/No.\n",
    "    Returns None if no match found, multiple matches found, or if the pattern is not at the end of the text.\n",
    "    \"\"\"\n",
    "    pattern = r\"Is the answer correct \\(Yes/No\\)\\?\\s+(Yes|No)\"\n",
    "    matches = re.findall(pattern, text)\n",
    "    if len(matches) > 0:\n",
    "        return matches[-1] == \"Yes\"\n",
    "    else:\n",
    "        return None\n",
    "\n",
    "\n",
    "def train_verification_reward(data_source, solution_str, ground_truth, extra_info=None):\n",
    "    reward = 0.0\n",
    "    reward_dict = {}\n",
    "\n",
    "    text = solution_str.strip().replace(\"**\", \"\")\n",
    "    label, correct_ratio = ground_truth.split(\"|\")\n",
    "    label, correct_ratio = eval(label), float(correct_ratio)\n",
    "    \n",
    "    output = extract_yes_no(text)\n",
    "    reward_dict[\"valid_verification_form\"] = output is not None\n",
    "    \n",
    "    if reward_dict[\"valid_verification_form\"]:\n",
    "        if VERIFICATION_REWARD_TYPE == \"baseline\":\n",
    "            reward = label == output\n",
    "        elif VERIFICATION_REWARD_TYPE == \"fix_imbalance\":\n",
    "            if label == output:\n",
    "                reward += float(output) * (1 - correct_ratio) + (1 - float(output)) * correct_ratio\n",
    "                reward *= 2\n",
    "        else:\n",
    "            raise NotImplementedError(f\"Reward function is not implemented for {VERIFICATION_REWARD_TYPE=}\")\n",
    "\n",
    "    if \"non_short_response\" in AUXILIARY_REWARDS:\n",
    "        # penalty for short response\n",
    "        reward_dict[\"non_short_response\"] = len(solution_str) >= 40\n",
    "        if not reward_dict[\"non_short_response\"]:\n",
    "            reward -= 0.5\n",
    "\n",
    "    reward_dict[\"score\"] = reward\n",
    "    return reward_dict\n",
    "\n",
    "\n",
    "def test_verification_reward(data_source, solution_str, ground_truth, extra_info=None):\n",
    "    output = extract_yes_no(solution_str)\n",
    "    label = eval(ground_truth)\n",
    "    if output is None:\n",
    "        res = False\n",
    "    else:\n",
    "        res = output == label\n",
    "    return dict(score=float(res))\n"
   ]
  },
  {
   "cell_type": "code",
   "execution_count": 1,
   "id": "b709151d",
   "metadata": {},
   "outputs": [
    {
     "ename": "RuntimeError",
     "evalue": "Invalid magic number; corrupt file?",
     "output_type": "error",
     "traceback": [
      "\u001b[0;31m---------------------------------------------------------------------------\u001b[0m",
      "\u001b[0;31mRuntimeError\u001b[0m                              Traceback (most recent call last)",
      "Cell \u001b[0;32mIn[1], line 4\u001b[0m\n\u001b[1;32m      1\u001b[0m \u001b[38;5;28;01mimport\u001b[39;00m\u001b[38;5;250m \u001b[39m\u001b[38;5;21;01mtorch\u001b[39;00m\n\u001b[1;32m      3\u001b[0m data_path \u001b[38;5;241m=\u001b[39m \u001b[38;5;124m'\u001b[39m\u001b[38;5;124m/nfsdata/yhe/verl/checkpoints/baseline-verl-grpo/test-2k-no-entctl--DeepSeek-R1-Distill-Qwen-1.5B-deepscaler-NODE2/step2.pkl\u001b[39m\u001b[38;5;124m'\u001b[39m\n\u001b[0;32m----> 4\u001b[0m data \u001b[38;5;241m=\u001b[39m \u001b[43mtorch\u001b[49m\u001b[38;5;241;43m.\u001b[39;49m\u001b[43mload\u001b[49m\u001b[43m(\u001b[49m\u001b[43mdata_path\u001b[49m\u001b[43m,\u001b[49m\u001b[43m \u001b[49m\u001b[43mmap_location\u001b[49m\u001b[38;5;241;43m=\u001b[39;49m\u001b[38;5;124;43m'\u001b[39;49m\u001b[38;5;124;43mcpu\u001b[39;49m\u001b[38;5;124;43m'\u001b[39;49m\u001b[43m,\u001b[49m\u001b[43m \u001b[49m\u001b[43mweights_only\u001b[49m\u001b[38;5;241;43m=\u001b[39;49m\u001b[38;5;28;43;01mFalse\u001b[39;49;00m\u001b[43m)\u001b[49m\n",
      "File \u001b[0;32m~/miniconda3/envs/verl/lib/python3.10/site-packages/torch/serialization.py:1495\u001b[0m, in \u001b[0;36mload\u001b[0;34m(f, map_location, pickle_module, weights_only, mmap, **pickle_load_args)\u001b[0m\n\u001b[1;32m   1493\u001b[0m     \u001b[38;5;28;01mexcept\u001b[39;00m pickle\u001b[38;5;241m.\u001b[39mUnpicklingError \u001b[38;5;28;01mas\u001b[39;00m e:\n\u001b[1;32m   1494\u001b[0m         \u001b[38;5;28;01mraise\u001b[39;00m pickle\u001b[38;5;241m.\u001b[39mUnpicklingError(_get_wo_message(\u001b[38;5;28mstr\u001b[39m(e))) \u001b[38;5;28;01mfrom\u001b[39;00m\u001b[38;5;250m \u001b[39m\u001b[38;5;28;01mNone\u001b[39;00m\n\u001b[0;32m-> 1495\u001b[0m \u001b[38;5;28;01mreturn\u001b[39;00m \u001b[43m_legacy_load\u001b[49m\u001b[43m(\u001b[49m\n\u001b[1;32m   1496\u001b[0m \u001b[43m    \u001b[49m\u001b[43mopened_file\u001b[49m\u001b[43m,\u001b[49m\u001b[43m \u001b[49m\u001b[43mmap_location\u001b[49m\u001b[43m,\u001b[49m\u001b[43m \u001b[49m\u001b[43mpickle_module\u001b[49m\u001b[43m,\u001b[49m\u001b[43m \u001b[49m\u001b[38;5;241;43m*\u001b[39;49m\u001b[38;5;241;43m*\u001b[39;49m\u001b[43mpickle_load_args\u001b[49m\n\u001b[1;32m   1497\u001b[0m \u001b[43m\u001b[49m\u001b[43m)\u001b[49m\n",
      "File \u001b[0;32m~/miniconda3/envs/verl/lib/python3.10/site-packages/torch/serialization.py:1746\u001b[0m, in \u001b[0;36m_legacy_load\u001b[0;34m(f, map_location, pickle_module, **pickle_load_args)\u001b[0m\n\u001b[1;32m   1744\u001b[0m magic_number \u001b[38;5;241m=\u001b[39m pickle_module\u001b[38;5;241m.\u001b[39mload(f, \u001b[38;5;241m*\u001b[39m\u001b[38;5;241m*\u001b[39mpickle_load_args)\n\u001b[1;32m   1745\u001b[0m \u001b[38;5;28;01mif\u001b[39;00m magic_number \u001b[38;5;241m!=\u001b[39m MAGIC_NUMBER:\n\u001b[0;32m-> 1746\u001b[0m     \u001b[38;5;28;01mraise\u001b[39;00m \u001b[38;5;167;01mRuntimeError\u001b[39;00m(\u001b[38;5;124m\"\u001b[39m\u001b[38;5;124mInvalid magic number; corrupt file?\u001b[39m\u001b[38;5;124m\"\u001b[39m)\n\u001b[1;32m   1747\u001b[0m protocol_version \u001b[38;5;241m=\u001b[39m pickle_module\u001b[38;5;241m.\u001b[39mload(f, \u001b[38;5;241m*\u001b[39m\u001b[38;5;241m*\u001b[39mpickle_load_args)\n\u001b[1;32m   1748\u001b[0m \u001b[38;5;28;01mif\u001b[39;00m protocol_version \u001b[38;5;241m!=\u001b[39m PROTOCOL_VERSION:\n",
      "\u001b[0;31mRuntimeError\u001b[0m: Invalid magic number; corrupt file?"
     ]
    }
   ],
   "source": [
    "import torch\n",
    "\n",
    "data_path = '/nfsdata/yhe/verl/checkpoints/baseline-verl-grpo/test-2k-no-entctl--DeepSeek-R1-Distill-Qwen-1.5B-deepscaler-NODE2/step2.pkl'\n",
    "data = torch.load(data_path, map_location='cpu', weights_only=False)"
   ]
  },
  {
   "cell_type": "code",
   "execution_count": null,
   "id": "f665b044",
   "metadata": {},
   "outputs": [],
   "source": [
    "import torch\n",
    "from datasets import load_dataset\n",
    "\n",
    "def load_data(path):\n",
    "    data = load_dataset('parquet', data_files=path)['train']\n",
    "    return data\n",
    "\n",
    "def load_pkl(path):\n",
    "    data = torch.load(path, map_location='cpu', weights_only=False)\n",
    "    return data\n",
    "\n",
    "\n",
    "data_path = '/nfsdata/yhe/verl/analysis_data/train_generation.parquet'\n",
    "data = load_data(data_path)\n",
    "data[0]"
   ]
  },
  {
   "cell_type": "code",
   "execution_count": null,
   "id": "d836aa8f",
   "metadata": {},
   "outputs": [],
   "source": [
    "from verl import DataProto\n"
   ]
  },
  {
   "cell_type": "code",
   "execution_count": 78,
   "id": "f0575a37",
   "metadata": {},
   "outputs": [],
   "source": [
    "tets_path = '/nfsdata/yhe/verl/checkpoints/baseline-verl-grpo/test-2k-no-entctl--DeepSeek-R1-Distill-Qwen-1.5B-deepscaler-NODE2/step2.pkl'\n",
    "test_data = DataProto.load_from_disk(tets_path)\n"
   ]
  },
  {
   "cell_type": "code",
   "execution_count": 84,
   "id": "ab05a5bb",
   "metadata": {},
   "outputs": [
    {
     "data": {
      "text/plain": [
       "TensorDict(\n",
       "    fields={\n",
       "        advantages: Tensor(shape=torch.Size([512]), device=cpu, dtype=torch.float32, is_shared=False),\n",
       "        prompts: Tensor(shape=torch.Size([512, 2048]), device=cpu, dtype=torch.int64, is_shared=False),\n",
       "        responses: Tensor(shape=torch.Size([512, 6144]), device=cpu, dtype=torch.int64, is_shared=False),\n",
       "        returns: Tensor(shape=torch.Size([512, 6144]), device=cpu, dtype=torch.float32, is_shared=False),\n",
       "        rollout_entropies: Tensor(shape=torch.Size([512, 6144]), device=cpu, dtype=torch.float32, is_shared=False),\n",
       "        token_level_rewards: Tensor(shape=torch.Size([512]), device=cpu, dtype=torch.float32, is_shared=False)},\n",
       "    batch_size=torch.Size([512]),\n",
       "    device=None,\n",
       "    is_shared=False)"
      ]
     },
     "execution_count": 84,
     "metadata": {},
     "output_type": "execute_result"
    }
   ],
   "source": [
    "test_data.batch"
   ]
  },
  {
   "cell_type": "code",
   "execution_count": 81,
   "id": "34304ac4",
   "metadata": {},
   "outputs": [],
   "source": [
    "entropy_test = test_data.batch['rollout_entropies']"
   ]
  },
  {
   "cell_type": "code",
   "execution_count": 83,
   "id": "f93a2ec8",
   "metadata": {},
   "outputs": [
    {
     "data": {
      "text/plain": [
       "tensor([[6.8569e-01, 1.0653e-04, 9.1362e-01, 3.5269e-01, 1.5037e+00, 3.1297e-02,\n",
       "         7.4015e-01, 7.9159e-01, 6.9873e-01, 2.5835e-03],\n",
       "        [1.2846e+00, 5.6131e-03, 6.5408e-01, 1.6052e+00, 1.3309e-04, 1.3391e+00,\n",
       "         2.2484e-01, 1.2808e+00, 1.5312e-02, 1.0455e-01],\n",
       "        [7.3892e-01, 1.1156e-04, 3.9557e-01, 3.7453e-02, 1.0453e+00, 3.0106e-04,\n",
       "         1.0562e+00, 9.9385e-02, 2.1468e-04, 5.8082e-01],\n",
       "        [6.6938e-01, 1.6280e-05, 1.8664e-01, 1.9419e-02, 1.3991e+00, 3.7738e-02,\n",
       "         6.5091e-02, 1.3535e-01, 5.2300e-03, 5.8199e-06],\n",
       "        [6.8029e-01, 2.3835e-07, 3.6754e-01, 1.8651e-01, 1.5093e+00, 6.9068e-01,\n",
       "         1.5437e-03, 6.9443e-01, 5.9238e-03, 6.1302e-01]])"
      ]
     },
     "execution_count": 83,
     "metadata": {},
     "output_type": "execute_result"
    }
   ],
   "source": [
    "entropy_test[:5, :10]"
   ]
  },
  {
   "cell_type": "code",
   "execution_count": 75,
   "id": "e6c8279c",
   "metadata": {},
   "outputs": [
    {
     "data": {
      "text/plain": [
       "tensor([[ 0.0000,  0.0000,  0.0000,  ...,  0.0000,  0.0000,  0.0000],\n",
       "        [ 0.0000,  0.0000,  0.0000,  ...,  0.0000,  0.0000,  0.0000],\n",
       "        [ 0.0000,  0.0000,  0.0000,  ...,  0.0000,  0.0000,  0.0000],\n",
       "        ...,\n",
       "        [-0.3869, -0.5231,  0.0000,  ...,  0.0000,  0.0000, -0.6326],\n",
       "        [-0.3869, -0.8981,  0.0000,  ...,  0.0000,  0.0000,  0.0000],\n",
       "        [-0.3869, -0.8981,  0.0000,  ...,  0.0000,  0.0000,  0.0000]])"
      ]
     },
     "execution_count": 75,
     "metadata": {},
     "output_type": "execute_result"
    }
   ],
   "source": [
    "test_entropy[:-10, :10]"
   ]
  },
  {
   "cell_type": "code",
   "execution_count": null,
   "id": "c1952757",
   "metadata": {},
   "outputs": [
    {
     "name": "stderr",
     "output_type": "stream",
     "text": [
      "100%|██████████| 158/158 [00:16<00:00,  9.57it/s]\n"
     ]
    }
   ],
   "source": [
    "pkl_path_logprobs = '/nfsdata/yhe/verl/analysis_data/train_generation_{}_log_probs.pkl'\n",
    "pkl_path_entropy = '/nfsdata/yhe/verl/analysis_data/train_generation_{}_entropy.pkl'\n",
    "total_log_probs = []\n",
    "total_entropy = []\n",
    "from tqdm import tqdm\n",
    "for i in tqdm(range(158)):\n",
    "    pkl_logprobs = load_pkl(pkl_path_logprobs.format(i))\n",
    "    pkl_entropy = load_pkl(pkl_path_entropy.format(i))\n",
    "    log_probs = pkl_logprobs['output_lst_log_probs']\n",
    "    entropy = pkl_entropy['output_lst_entropy']\n",
    "    length = torch.sum(log_probs != -1, dim=-1)\n",
    "    log_probs = log_probs.masked_fill(log_probs == -1, 0)\n",
    "\n",
    "    # entropy = entropy.masked_fill(entropy == -1, 0)\n",
    "    log_probs = log_probs.sum(dim=-1) / length\n",
    "    entropy = entropy.sum(dim=-1) / length\n",
    "    total_log_probs.append(log_probs)\n",
    "    total_entropy.append(entropy)\n",
    "\n",
    "total_log_probs = torch.cat(total_log_probs, dim=0)\n",
    "total_entropy = torch.cat(total_entropy, dim=0)\n",
    "\n"
   ]
  },
  {
   "cell_type": "code",
   "execution_count": 33,
   "id": "86d6a8cc",
   "metadata": {},
   "outputs": [
    {
     "data": {
      "text/plain": [
       "torch.Size([40315, 16])"
      ]
     },
     "execution_count": 33,
     "metadata": {},
     "output_type": "execute_result"
    }
   ],
   "source": [
    "total_log_probs = total_log_probs.reshape(-1, 16)\n",
    "total_entropy = total_entropy.reshape(-1, 16)\n",
    "\n",
    "total_log_probs.shape\n",
    "total_entropy.shape\n",
    "\n"
   ]
  },
  {
   "cell_type": "code",
   "execution_count": 19,
   "id": "0b42564c",
   "metadata": {},
   "outputs": [
    {
     "name": "stderr",
     "output_type": "stream",
     "text": [
      "Parameter 'function'=<function add_reward_score at 0x7fca041712d0> of the transform datasets.arrow_dataset.Dataset._map_single couldn't be hashed properly, a random hash was used instead. Make sure your transforms and parameters are serializable with pickle or dill for the dataset fingerprinting and caching to work. If you reuse this transform, the caching mechanism will consider it to be different from the previous calls and recompute everything. This warning is only showed once. Subsequent hashing failures won't be showed.\n"
     ]
    },
    {
     "data": {
      "application/vnd.jupyter.widget-view+json": {
       "model_id": "5b9b1c9f5ecd434cb06a49b65dea6a5c",
       "version_major": 2,
       "version_minor": 0
      },
      "text/plain": [
       "Map (num_proc=16):   0%|          | 0/40315 [00:00<?, ? examples/s]"
      ]
     },
     "metadata": {},
     "output_type": "display_data"
    },
    {
     "name": "stderr",
     "output_type": "stream",
     "text": [
      "Exception ignored in: <bound method IPythonKernel._clean_thread_parent_frames of <ipykernel.ipkernel.IPythonKernel object at 0x7fcc59669600>>\n",
      "Traceback (most recent call last):\n",
      "  File \"/nfsdata/yhe/miniconda3/envs/verl/lib/python3.10/site-packages/ipykernel/ipkernel.py\", line 781, in _clean_thread_parent_frames\n",
      "    def _clean_thread_parent_frames(\n",
      "  File \"/nfsdata/yhe/miniconda3/envs/verl/lib/python3.10/site-packages/math_verify/utils.py\", line 44, in handler\n",
      "    raise TimeoutException(\"Operation timed out!\")\n",
      "math_verify.errors.TimeoutException: Operation timed out!\n"
     ]
    }
   ],
   "source": [
    "data = data.map(add_reward_score, num_proc=16)"
   ]
  },
  {
   "cell_type": "code",
   "execution_count": 28,
   "id": "4fd771c9",
   "metadata": {},
   "outputs": [],
   "source": [
    "correct_ratio = torch.tensor(correct_ratio, dtype=torch.float32)"
   ]
  },
  {
   "cell_type": "code",
   "execution_count": 30,
   "id": "43a57127",
   "metadata": {},
   "outputs": [
    {
     "data": {
      "text/plain": [
       "tensor(9745)"
      ]
     },
     "execution_count": 30,
     "metadata": {},
     "output_type": "execute_result"
    }
   ],
   "source": [
    "torch.sum(correct_ratio==1)"
   ]
  },
  {
   "cell_type": "code",
   "execution_count": 34,
   "id": "9d4f0199",
   "metadata": {},
   "outputs": [
    {
     "data": {
      "text/plain": [
       "torch.Size([40315])"
      ]
     },
     "execution_count": 34,
     "metadata": {},
     "output_type": "execute_result"
    }
   ],
   "source": [
    "log_probs_sample = total_log_probs[:, 0]\n",
    "entropy_sample = total_entropy[:, 0]\n",
    "log_probs_sample.shape"
   ]
  },
  {
   "cell_type": "code",
   "execution_count": 58,
   "id": "a8fdfb54",
   "metadata": {},
   "outputs": [
    {
     "data": {
      "text/plain": [
       "torch.Size([40315])"
      ]
     },
     "execution_count": 58,
     "metadata": {},
     "output_type": "execute_result"
    }
   ],
   "source": [
    "entropy_sample.shape"
   ]
  },
  {
   "cell_type": "code",
   "execution_count": 59,
   "id": "fbf2a847",
   "metadata": {},
   "outputs": [
    {
     "data": {
      "text/plain": [
       "torch.Size([40315])"
      ]
     },
     "execution_count": 59,
     "metadata": {},
     "output_type": "execute_result"
    }
   ],
   "source": [
    "correct_ratio.shape"
   ]
  },
  {
   "cell_type": "code",
   "execution_count": null,
   "id": "5f511322",
   "metadata": {},
   "outputs": [],
   "source": []
  },
  {
   "cell_type": "code",
   "execution_count": 45,
   "id": "e20a6bb0",
   "metadata": {},
   "outputs": [],
   "source": [
    "s_log_probs = torch.exp(log_probs_sample)\n",
    "mu = torch.mean(s_log_probs)\n",
    "scores = 1 - (s_log_probs - mu) ** 2\n",
    "\n",
    "\n",
    "\n",
    "\n",
    "\n"
   ]
  },
  {
   "cell_type": "code",
   "execution_count": 46,
   "id": "31b4d9da",
   "metadata": {},
   "outputs": [
    {
     "data": {
      "text/plain": [
       "tensor([1., 1., 1., 1., 1., 1., 1., 1., 1., 1.])"
      ]
     },
     "execution_count": 46,
     "metadata": {},
     "output_type": "execute_result"
    }
   ],
   "source": [
    "values, idx = torch.sort(scores, descending=True)\n",
    "values[:10]\n",
    "\n",
    "\n",
    "\n",
    "\n"
   ]
  },
  {
   "cell_type": "code",
   "execution_count": 47,
   "id": "bd85d4dd",
   "metadata": {},
   "outputs": [
    {
     "data": {
      "text/plain": [
       "tensor([0.9788, 0.9786, 0.9778, 0.9773, 0.9754, 0.9752, 0.9746, 0.9727, 0.9715,\n",
       "        0.9675])"
      ]
     },
     "execution_count": 47,
     "metadata": {},
     "output_type": "execute_result"
    }
   ],
   "source": [
    "values[-10:]"
   ]
  },
  {
   "cell_type": "code",
   "execution_count": 56,
   "id": "9f6451ad",
   "metadata": {},
   "outputs": [
    {
     "data": {
      "text/plain": [
       "dict"
      ]
     },
     "execution_count": 56,
     "metadata": {},
     "output_type": "execute_result"
    }
   ],
   "source": [
    "type(target_data)"
   ]
  },
  {
   "cell_type": "code",
   "execution_count": 57,
   "id": "ad0dd986",
   "metadata": {},
   "outputs": [
    {
     "data": {
      "application/vnd.jupyter.widget-view+json": {
       "model_id": "86a24d31fb1a4a8c8d0ebcdcfc347232",
       "version_major": 2,
       "version_minor": 0
      },
      "text/plain": [
       "Creating parquet from Arrow format:   0%|          | 0/4 [00:00<?, ?ba/s]"
      ]
     },
     "metadata": {},
     "output_type": "display_data"
    },
    {
     "data": {
      "text/plain": [
       "128076238"
      ]
     },
     "execution_count": 57,
     "metadata": {},
     "output_type": "execute_result"
    }
   ],
   "source": [
    "idx_target = idx[:4000]\n",
    "target_data = data[idx_target]\n",
    "from datasets import Dataset\n",
    "target_data = Dataset.from_dict(target_data)\n",
    "target_data.to_parquet('/nfsdata/yhe/verl/data/qwen-math/deepscaler/train_generation_4k_ufo.parquet')"
   ]
  },
  {
   "cell_type": "code",
   "execution_count": null,
   "id": "d56c483f",
   "metadata": {},
   "outputs": [
    {
     "ename": "AttributeError",
     "evalue": "'dict' object has no attribute 'to_parquet'",
     "output_type": "error",
     "traceback": [
      "\u001b[0;31m---------------------------------------------------------------------------\u001b[0m",
      "\u001b[0;31mAttributeError\u001b[0m                            Traceback (most recent call last)",
      "Cell \u001b[0;32mIn[54], line 1\u001b[0m\n\u001b[0;32m----> 1\u001b[0m \u001b[43mtarget_data\u001b[49m\u001b[38;5;241;43m.\u001b[39;49m\u001b[43mto_parquet\u001b[49m(\u001b[38;5;124m'\u001b[39m\u001b[38;5;124m/nfsdata/yhe/verl/data/qwen-math/deepscaler/train_generation_4k_ufo.parquet\u001b[39m\u001b[38;5;124m'\u001b[39m)\n",
      "\u001b[0;31mAttributeError\u001b[0m: 'dict' object has no attribute 'to_parquet'"
     ]
    }
   ],
   "source": []
  },
  {
   "cell_type": "code",
   "execution_count": 48,
   "id": "06c41f66",
   "metadata": {},
   "outputs": [
    {
     "data": {
      "image/png": "[encoded data removed]",
      "text/plain": [
       "<Figure size 640x480 with 1 Axes>"
      ]
     },
     "metadata": {},
     "output_type": "display_data"
    }
   ],
   "source": [
    "idx_1k = idx[:1000]\n",
    "values_1k = values[:1000]\n",
    "correct_ratio_1k = correct_ratio[idx_1k]\n",
    "import matplotlib.pyplot as plt\n",
    "plt.hist(correct_ratio_1k.numpy(), bins=16)\n",
    "plt.show()\n",
    "\n",
    "\n",
    "\n"
   ]
  },
  {
   "cell_type": "code",
   "execution_count": 50,
   "id": "cd7d97d5",
   "metadata": {},
   "outputs": [
    {
     "data": {
      "text/plain": [
       "tensor(147)"
      ]
     },
     "execution_count": 50,
     "metadata": {},
     "output_type": "execute_result"
    }
   ],
   "source": [
    "torch.sum(correct_ratio_1k==1) "
   ]
  },
  {
   "cell_type": "code",
   "execution_count": 51,
   "id": "a318faf8",
   "metadata": {},
   "outputs": [],
   "source": [
    "values_1k = 1 - torch.abs(values_1k - 0.5)"
   ]
  },
  {
   "cell_type": "code",
   "execution_count": 52,
   "id": "3b72e3f2",
   "metadata": {},
   "outputs": [
    {
     "data": {
      "text/plain": [
       "PearsonRResult(statistic=0.00018911809, pvalue=0.9952342963871487)"
      ]
     },
     "execution_count": 52,
     "metadata": {},
     "output_type": "execute_result"
    }
   ],
   "source": [
    "import pandas as pd\n",
    "import numpy as np\n",
    "from scipy.stats import pearsonr, spearmanr\n",
    "\n",
    "corr1 = pearsonr(correct_ratio_1k, values_1k)\n",
    "corr1"
   ]
  },
  {
   "cell_type": "code",
   "execution_count": 60,
   "id": "06e3c81c",
   "metadata": {},
   "outputs": [
    {
     "data": {
      "text/plain": [
       "PearsonRResult(statistic=nan, pvalue=nan)"
      ]
     },
     "execution_count": 60,
     "metadata": {},
     "output_type": "execute_result"
    }
   ],
   "source": [
    "corr_entropy = pearsonr(correct_ratio, entropy_sample)\n",
    "corr_entropy"
   ]
  },
  {
   "cell_type": "code",
   "execution_count": 63,
   "id": "90cc3a50",
   "metadata": {},
   "outputs": [
    {
     "data": {
      "text/plain": [
       "torch.Size([40315])"
      ]
     },
     "execution_count": 63,
     "metadata": {},
     "output_type": "execute_result"
    }
   ],
   "source": [
    "entropy_sample.shape"
   ]
  },
  {
   "cell_type": "code",
   "execution_count": 64,
   "id": "4068ffbb",
   "metadata": {},
   "outputs": [
    {
     "data": {
      "text/plain": [
       "tensor([nan, nan, nan, nan, nan, nan, nan, nan, nan, nan])"
      ]
     },
     "execution_count": 64,
     "metadata": {},
     "output_type": "execute_result"
    }
   ],
   "source": [
    "entropy_sample[:10]"
   ]
  },
  {
   "cell_type": "code",
   "execution_count": 44,
   "id": "bc6d5b1c",
   "metadata": {},
   "outputs": [
    {
     "data": {
      "text/plain": [
       "tensor(0.2288)"
      ]
     },
     "execution_count": 44,
     "metadata": {},
     "output_type": "execute_result"
    }
   ],
   "source": [
    "correct_ratio_1k.mean()"
   ]
  },
  {
   "cell_type": "code",
   "execution_count": null,
   "id": "362de646",
   "metadata": {},
   "outputs": [],
   "source": []
  }
 ],
 "metadata": {
  "kernelspec": {
   "display_name": "verl",
   "language": "python",
   "name": "python3"
  },
  "language_info": {
   "codemirror_mode": {
    "name": "ipython",
    "version": 3
   },
   "file_extension": ".py",
   "mimetype": "text/x-python",
   "name": "python",
   "nbconvert_exporter": "python",
   "pygments_lexer": "ipython3",
   "version": "3.10.0"
  }
 },
 "nbformat": 4,
 "nbformat_minor": 5
}
